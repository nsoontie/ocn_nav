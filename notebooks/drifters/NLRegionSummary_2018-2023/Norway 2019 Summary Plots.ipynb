{
 "cells": [
  {
   "cell_type": "code",
   "execution_count": 1,
   "id": "7b174aa1",
   "metadata": {},
   "outputs": [],
   "source": [
    "import matplotlib.pyplot as plt\n",
    "import cartopy.crs as ccrs\n",
    "import cartopy.feature as cfeature\n",
    "import pandas as pd\n",
    "import xarray as xr\n",
    "import numpy as np\n",
    "\n",
    "import glob\n",
    "import os\n",
    "\n",
    "%matplotlib inline"
   ]
  },
  {
   "cell_type": "code",
   "execution_count": 2,
   "id": "636b218f",
   "metadata": {},
   "outputs": [],
   "source": [
    "plt.style.use('seaborn-talk')"
   ]
  },
  {
   "cell_type": "code",
   "execution_count": 3,
   "id": "5b824970",
   "metadata": {},
   "outputs": [],
   "source": [
    "lat_min=50\n",
    "lon_min=0\n",
    "lat_max=70\n",
    "lon_max=10"
   ]
  },
  {
   "cell_type": "code",
   "execution_count": 4,
   "id": "c22b8c82",
   "metadata": {},
   "outputs": [],
   "source": [
    "# etopo file\n",
    "ef = '/home/soontiensn/data/ocn-nav/ETOPO1_Bed_g_gmt4.grd'\n",
    "etopo = xr.open_dataset(ef)\n",
    "esel = etopo.sel(x=slice(lon_min, lon_max), y=slice(lat_min, lat_max))"
   ]
  },
  {
   "cell_type": "code",
   "execution_count": 5,
   "id": "84b1cdec",
   "metadata": {},
   "outputs": [],
   "source": [
    "stokes = glob.glob(f'data/csv_files/stokes_*')\n",
    "SVPs = glob.glob(f'data/csv_files/SVP*')\n",
    "oskers_norway = glob.glob(f'data/csv_files/OSKERS*Norway*')\n",
    "codes= glob.glob(f'data/csv_files/davis*')\n",
    "spotter = glob.glob(f'data/csv_files/SPOT*')\n",
    "mets = glob.glob(f'data/MeteoFrance/six_hourly_interp/*.nc')\n",
    "mets.extend(glob.glob(f'data/MeteoFrance/erddap/*.nc'))"
   ]
  },
  {
   "cell_type": "code",
   "execution_count": 6,
   "id": "b74c3f51",
   "metadata": {},
   "outputs": [],
   "source": [
    "def pretty_map(ax):\n",
    "    # Add coastlines\n",
    "    ax.coastlines(linewidth=1)\n",
    "    # Add gridlines \n",
    "    gl = ax.gridlines(linestyle='--',draw_labels={\"bottom\": \"x\", \"left\": \"y\"},zorder=10)\n",
    "    ax.add_feature(cfeature.LAND)"
   ]
  },
  {
   "cell_type": "code",
   "execution_count": 7,
   "id": "10dafa41",
   "metadata": {},
   "outputs": [],
   "source": [
    "def plot_bathymetry(ax, etopo):\n",
    "    lons = etopo.x.values\n",
    "    lats = etopo.y.values\n",
    "    lons, lats = np.meshgrid(lons,lats)\n",
    "    bathy = etopo.z.values\n",
    "    levels = [-1000,]\n",
    "    CS = ax.contour(lons,lats,bathy,levels, transform=ccrs.PlateCarree(),\n",
    "                    linestyles='solid', linewidth=0.05,colors='lightgrey')"
   ]
  },
  {
   "cell_type": "code",
   "execution_count": 8,
   "id": "3e603219",
   "metadata": {},
   "outputs": [],
   "source": [
    "def plot_mets(files, ax):\n",
    "    count=0\n",
    "    for f in files:\n",
    "        print(f)\n",
    "        label='MeteoFrance SVP' if count==0 else '__nolabel'\n",
    "        d = xr.open_dataset(f)\n",
    "        x, y = d['longitude'].values[0], d['latitude'].values[0]\n",
    "        ax.plot(x,y,color='C5', label=label, transform=ccrs.PlateCarree()) \n",
    "        count+=1"
   ]
  },
  {
   "cell_type": "code",
   "execution_count": 9,
   "id": "5737eccf",
   "metadata": {},
   "outputs": [],
   "source": [
    "def plot_spotter(files, ax):\n",
    "    count=0\n",
    "    for f in files:\n",
    "        print(f)\n",
    "        label='Spotters' if count==0 else '__nolabel'\n",
    "        d = pd.read_csv(f)\n",
    "        x, y = d['Longitude (deg)'].values, d['Latitude (deg)'].values\n",
    "        ax.plot(x,y,color='C0', label=label, transform=ccrs.PlateCarree()) \n",
    "        count+=1"
   ]
  },
  {
   "cell_type": "code",
   "execution_count": 10,
   "id": "b0997bb7",
   "metadata": {},
   "outputs": [],
   "source": [
    "def plot_SVPs(files, ax):\n",
    "    count=0\n",
    "    for f in files:\n",
    "        print(f)\n",
    "        d = pd.read_csv(f)\n",
    "        x, y = d[' LONGITUDE'].values,d[' LATITUDE'].values\n",
    "        if count==0:\n",
    "            ax.plot(x,y,color='C1', label='SVP', transform=ccrs.PlateCarree())\n",
    "        else:\n",
    "            ax.plot(x,y,color='C1', label='_nolabel__', transform=ccrs.PlateCarree()) \n",
    "        count+=1"
   ]
  },
  {
   "cell_type": "code",
   "execution_count": 11,
   "id": "fd683522",
   "metadata": {},
   "outputs": [],
   "source": [
    "def plot_davis(files, ax):\n",
    "    count=0\n",
    "    for f in files:\n",
    "        print(f)\n",
    "        d = pd.read_csv(f)\n",
    "        x, y = d[' LONGITUDE'].values,d[' LATITUDE'].values\n",
    "        if count==0:\n",
    "            ax.plot(x,y,color='C4', label='Code-davis', transform=ccrs.PlateCarree())\n",
    "        else:\n",
    "            ax.plot(x,y,color='C4', label='_nolabel__', transform=ccrs.PlateCarree())\n",
    "        count+=1"
   ]
  },
  {
   "cell_type": "code",
   "execution_count": 12,
   "id": "25bc9de6",
   "metadata": {},
   "outputs": [],
   "source": [
    "def plot_stokes(files, ax):\n",
    "    count=0\n",
    "    for f in files:\n",
    "        print(f)\n",
    "        d = pd.read_csv(f, na_values=\" \")\n",
    "        d = d[d[' Latitude'].between(-90,90)]  \n",
    "        x, y = d[' Longitude'].values,d[' Latitude'].values\n",
    "        if count==0:\n",
    "            ax.plot(x,y,color='C3', label='stokes',transform=ccrs.PlateCarree())\n",
    "        else:\n",
    "            ax.plot(x,y,color='C3', label='_nolabel__',transform=ccrs.PlateCarree())\n",
    "        count+=1"
   ]
  },
  {
   "cell_type": "code",
   "execution_count": 13,
   "id": "25c06885",
   "metadata": {},
   "outputs": [],
   "source": [
    "def plot_oskers(files, ax):\n",
    "    count=0\n",
    "    for file in files:\n",
    "        print(file)\n",
    "        d = pd.read_csv(file)\n",
    "        dg = d.groupby('Device')\n",
    "        for name, g in dg:\n",
    "            x, y = g['Longitude'].values,g['Latitude'].values\n",
    "            if count ==0:\n",
    "                ax.plot(x,y,color='C2', label='Osker', transform=ccrs.PlateCarree())\n",
    "            else:\n",
    "                ax.plot(x,y,color='C2', label='__nolabel__',transform=ccrs.PlateCarree())\n",
    "            count+=1"
   ]
  },
  {
   "cell_type": "code",
   "execution_count": 14,
   "id": "06d5e8e8",
   "metadata": {
    "scrolled": false
   },
   "outputs": [
    {
     "name": "stdout",
     "output_type": "stream",
     "text": [
      "data/csv_files/OSKERS-Norway-June2019.csv\n"
     ]
    },
    {
     "name": "stderr",
     "output_type": "stream",
     "text": [
      "/home/soontiensn/miniconda-new/envs/develop/lib/python3.9/site-packages/cartopy/mpl/geoaxes.py:1666: UserWarning: The following kwargs were not used by contour: 'linewidth'\n",
      "  result = matplotlib.axes.Axes.contour(self, *args, **kwargs)\n"
     ]
    },
    {
     "data": {
      "text/plain": [
       "<matplotlib.legend.Legend at 0x7f8f1eee9d00>"
      ]
     },
     "execution_count": 14,
     "metadata": {},
     "output_type": "execute_result"
    },
    {
     "data": {
      "image/png": "[encoded data removed]",
      "text/plain": [
       "<Figure size 288x288 with 1 Axes>"
      ]
     },
     "metadata": {
      "needs_background": "light"
     },
     "output_type": "display_data"
    }
   ],
   "source": [
    "fig = plt.figure(figsize=(4,4))\n",
    "ax = fig.add_subplot(1, 1, 1, projection=ccrs.PlateCarree())\n",
    "\n",
    "plot_bathymetry(ax,esel)\n",
    "\n",
    "#plot_SVPs(SVPs, ax)\n",
    "\n",
    "#plot_stokes(stokes, ax)\n",
    "\n",
    "#plot_spotter(spotter,ax)\n",
    "#plot_mets(mets, ax)\n",
    "# only norwat oskers\n",
    "plot_oskers(oskers_norway, ax)\n",
    "#plot_davis(codes, ax)\n",
    "\n",
    "pretty_map(ax)\n",
    "ax.legend(bbox_to_anchor=(1.05, 1.05))\n"
   ]
  },
  {
   "cell_type": "code",
   "execution_count": 15,
   "id": "21bfe767",
   "metadata": {},
   "outputs": [],
   "source": [
    "fig.savefig('Norywa2019drifters.png', bbox_inches='tight', dpi=300)"
   ]
  },
  {
   "cell_type": "code",
   "execution_count": null,
   "id": "6f36d122",
   "metadata": {},
   "outputs": [],
   "source": []
  }
 ],
 "metadata": {
  "kernelspec": {
   "display_name": "Python 3 (ipykernel)",
   "language": "python",
   "name": "python3"
  },
  "language_info": {
   "codemirror_mode": {
    "name": "ipython",
    "version": 3
   },
   "file_extension": ".py",
   "mimetype": "text/x-python",
   "name": "python",
   "nbconvert_exporter": "python",
   "pygments_lexer": "ipython3",
   "version": "3.9.7"
  }
 },
 "nbformat": 4,
 "nbformat_minor": 5
}
