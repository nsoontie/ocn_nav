{
 "cells": [
  {
   "cell_type": "markdown",
   "metadata": {},
   "source": [
    "This notebook defines a function to find the nearest gridpoint to a specified target longitude and latitude and demonstrates how to use that function.\n",
    "\n",
    "## Dependencies\n",
    "The following packages are required. If you don't have of these packages try installing with `conda install package-name`"
   ]
  },
  {
   "cell_type": "code",
   "execution_count": 1,
   "metadata": {},
   "outputs": [],
   "source": [
    "import math\n",
    "\n",
    "import numpy as np\n",
    "from pykdtree.kdtree import KDTree\n",
    "import xarray as xr"
   ]
  },
  {
   "cell_type": "markdown",
   "metadata": {},
   "source": [
    "# Function definition\n",
    "The two cells below define the function`find_nearest_grid_point()` and a helpder function `_find_index()`. The docstrings explain the arguments and what is returned."
   ]
  },
  {
   "cell_type": "code",
   "execution_count": 2,
   "metadata": {},
   "outputs": [],
   "source": [
    "def find_nearest_grid_point(\n",
    "        lat, lon, dataset, lat_var_name, lon_var_name, n=1\n",
    "):\n",
    "    \"\"\"Find the nearest grid point to a given lat/lon pair.\n",
    "\n",
    "    Parameters\n",
    "    ----------\n",
    "    lat : float\n",
    "        Latitude value at which to find the nearest grid point.\n",
    "    lon : float\n",
    "        Longitude value at which to find the nearest grid point.\n",
    "    dataset : xarray.Dataset\n",
    "        An xarray Dataset containing the mesh variables.\n",
    "    lat_var_name : str\n",
    "        Name of the latitude variable in the dataset.\n",
    "    lon_var_name : str\n",
    "        Name of the longitude variable in the dataset.\n",
    "    n : int, optional\n",
    "        Number of nearest grid points to return. Default is to return the\n",
    "        single closest grid point.\n",
    "\n",
    "    Returns\n",
    "    -------\n",
    "    dist_sq, iy, ix, lat_near, lon_near\n",
    "        A tuple of numpy arrays:\n",
    "\n",
    "        - ``dist_sq``: the squared distance between the given lat/lon location\n",
    "          and the nearest grid points\n",
    "        - ``iy``: the y indices of the nearest grid points\n",
    "        - ``ix``: the x indices of the nearest grid points\n",
    "        - ``lat_near``: the latitude values of the nearest grid points\n",
    "        - ``lon_near``: the longitude values of the nearest grid points\n",
    "    \"\"\"\n",
    "\n",
    "    # Note the use of the squeeze method: it removes single-dimensional entries\n",
    "    # from the shape of an array. For example, in the GIOPS mesh file the\n",
    "    # longitude of the U velocity points is defined as an array with shape\n",
    "    # (1, 1, 1021, 1442). The squeeze method converts this into the equivalent\n",
    "    # array with shape (1021, 1442).\n",
    "    latvar = dataset.variables[lat_var_name].squeeze()\n",
    "    lonvar = dataset.variables[lon_var_name].squeeze()\n",
    "\n",
    "    rad_factor = math.pi / 180.0\n",
    "    latvals = latvar[:] * rad_factor\n",
    "    lonvals = lonvar[:] * rad_factor\n",
    "    clat, clon = np.cos(latvals), np.cos(lonvals)\n",
    "    slat, slon = np.sin(latvals), np.sin(lonvals)\n",
    "    if latvar.ndim == 1:\n",
    "        # If latitude and longitude are 1D arrays (as is the case with the\n",
    "        # GIOPS forecast data currently pulled from datamart), then we need to\n",
    "        # handle this situation in a special manner. The clat array will be of\n",
    "        # some size m, say, and the clon array will be of size n. By virtue of\n",
    "        # being defined with different dimensions, the product of these two\n",
    "        # arrays will be of size (m, n) because xarray will automatically\n",
    "        # broadcast the arrays so that the multiplication makes sense to do.\n",
    "        # Thus, the array calculated from\n",
    "        #\n",
    "        #   np.ravel(clat * clon)\n",
    "        #\n",
    "        # will be of size mn. However, the array\n",
    "        #\n",
    "        #   np.ravel(slat)\n",
    "        #\n",
    "        # will be of size m and this will cause the KDTree() call to fail. To\n",
    "        # resolve this issue, we broadcast slat to the appropriate size and\n",
    "        # shape.\n",
    "        shape = (slat.size, slon.size)\n",
    "        slat = np.broadcast_to(slat.values[:, np.newaxis], shape)\n",
    "    else:\n",
    "        shape = latvar.shape\n",
    "    triples = np.array([np.ravel(clat * clon), np.ravel(clat * slon),\n",
    "                            np.ravel(slat)]).transpose()\n",
    "    kdt = KDTree(triples)\n",
    "        \n",
    "\n",
    "    dist_sq, iy, ix = _find_index(lat, lon, kdt, shape, n)\n",
    "    # The results returned from _find_index are two-dimensional arrays (if\n",
    "    # n > 1) because it can handle the case of finding indices closest to\n",
    "    # multiple lat/lon locations (i.e., where lat and lon are arrays, not\n",
    "    # scalars). Currently, this function is intended only for a single lat/lon,\n",
    "    # so we redefine the results as one-dimensional arrays.\n",
    "    if n > 1:\n",
    "        dist_sq = dist_sq[0, :]\n",
    "        iy = iy[0, :]\n",
    "        ix = ix[0, :]\n",
    "\n",
    "    if latvar.ndim == 1:\n",
    "        lat_near = latvar.values[iy]\n",
    "        lon_near = lonvar.values[ix]\n",
    "    else:\n",
    "        lat_near = latvar.values[iy, ix]\n",
    "        lon_near = lonvar.values[iy, ix]\n",
    "\n",
    "    # Most datasets have longitude defined over the range -180 to +180. The\n",
    "    # GIOPS forecast data, however, currently uses a 0 to 360 range, so we\n",
    "    # adjust those values where necessary.\n",
    "    lon_near[lon_near > 180] -= 360\n",
    "\n",
    "    return dist_sq, iy, ix, lat_near, lon_near"
   ]
  },
  {
   "cell_type": "code",
   "execution_count": 3,
   "metadata": {},
   "outputs": [],
   "source": [
    "def _find_index(lat0, lon0, kdt, shape, n=1):\n",
    "    \"\"\"Finds the y, x indicies that are closest to a latitude, longitude pair.\n",
    "\n",
    "    Arguments:\n",
    "        lat0 -- the target latitude\n",
    "        lon0 -- the target longitude\n",
    "        n -- the number of indicies to return\n",
    "\n",
    "    Returns:\n",
    "        squared distance, y, x indicies\n",
    "    \"\"\"\n",
    "    if hasattr(lat0, \"__len__\"):\n",
    "        lat0 = np.array(lat0)\n",
    "        lon0 = np.array(lon0)\n",
    "        multiple = True\n",
    "    else:\n",
    "        multiple = False\n",
    "    rad_factor = math.pi / 180.0\n",
    "    lat0_rad = lat0 * rad_factor\n",
    "    lon0_rad = lon0 * rad_factor\n",
    "    clat0, clon0 = np.cos(lat0_rad), np.cos(lon0_rad)\n",
    "    slat0, slon0 = np.sin(lat0_rad), np.sin(lon0_rad)\n",
    "    q = [clat0 * clon0, clat0 * slon0, slat0]\n",
    "    if multiple:\n",
    "        q = np.array(q).transpose()\n",
    "    else:\n",
    "        q = np.array(q)\n",
    "        q = q[np.newaxis, :]\n",
    "    dist_sq_min, minindex_1d = kdt.query(np.float32(q), k=n)\n",
    "    iy_min, ix_min = np.unravel_index(minindex_1d, shape)\n",
    "    return dist_sq_min, iy_min, ix_min"
   ]
  },
  {
   "cell_type": "markdown",
   "metadata": {},
   "source": [
    "# Example of using the function\n",
    "The cells below describe how to use the function using the GLORS12 mesh file."
   ]
  },
  {
   "cell_type": "code",
   "execution_count": 4,
   "metadata": {},
   "outputs": [
    {
     "data": {
      "text/plain": [
       "<xarray.Dataset>\n",
       "Dimensions:       (t: 1, x: 4322, y: 1559, z: 50)\n",
       "Dimensions without coordinates: t, x, y, z\n",
       "Data variables:\n",
       "    nav_lon       (y, x) float32 ...\n",
       "    nav_lat       (y, x) float32 ...\n",
       "    nav_lev       (z) float32 ...\n",
       "    time_counter  (t) float64 ...\n",
       "    tmask         (t, z, y, x) uint8 ...\n",
       "    umask         (t, z, y, x) uint8 ...\n",
       "    vmask         (t, z, y, x) uint8 ...\n",
       "    fmask         (t, z, y, x) uint8 ...\n",
       "    tmaskutil     (t, y, x) uint8 ...\n",
       "    umaskutil     (t, y, x) uint8 ...\n",
       "    vmaskutil     (t, y, x) uint8 ...\n",
       "    fmaskutil     (t, y, x) uint8 ...\n",
       "    glamt         (t, y, x) float32 ...\n",
       "    glamu         (t, y, x) float32 ...\n",
       "    glamv         (t, y, x) float32 ...\n",
       "    glamf         (t, y, x) float32 ...\n",
       "    gphit         (t, y, x) float32 ...\n",
       "    gphiu         (t, y, x) float32 ...\n",
       "    gphiv         (t, y, x) float32 ...\n",
       "    gphif         (t, y, x) float32 ...\n",
       "    e1t           (t, y, x) float64 ...\n",
       "    e1u           (t, y, x) float64 ...\n",
       "    e1v           (t, y, x) float64 ...\n",
       "    e1f           (t, y, x) float64 ...\n",
       "    e2t           (t, y, x) float64 ...\n",
       "    e2u           (t, y, x) float64 ...\n",
       "    e2v           (t, y, x) float64 ...\n",
       "    e2f           (t, y, x) float64 ...\n",
       "    ff            (t, y, x) float64 ...\n",
       "    mbathy        (t, y, x) int16 ...\n",
       "    hdept         (t, y, x) float64 ...\n",
       "    hdepw         (t, y, x) float64 ...\n",
       "    e3t_ps        (t, y, x) float64 ...\n",
       "    e3w_ps        (t, y, x) float64 ...\n",
       "    gdept_0       (t, z) float64 ...\n",
       "    gdepw_0       (t, z) float64 ...\n",
       "    e3t_0         (t, z) float64 ...\n",
       "    e3w_0         (t, z) float64 ...\n",
       "Attributes:\n",
       "    file_name:                       mask.nc\n",
       "    TimeStamp:                       03/02/2016 10:18:37 -0000\n",
       "    DODS_EXTRA.Unlimited_Dimension:  t"
      ]
     },
     "execution_count": 4,
     "metadata": {},
     "output_type": "execute_result"
    }
   ],
   "source": [
    "d = xr.open_dataset('/terra/GLORYS12v1/Cgrid/PSY4V3R1_mesh_all.nc')\n",
    "d"
   ]
  },
  {
   "cell_type": "markdown",
   "metadata": {},
   "source": [
    "The longitude and latitude are called `nav_lon` and `nav_lat`. These arguments will be used in `find_nearest_grid_cell()`."
   ]
  },
  {
   "cell_type": "code",
   "execution_count": 5,
   "metadata": {},
   "outputs": [],
   "source": [
    "target_lon = -66\n",
    "target_lat = 44\n",
    "lon_var_name = 'nav_lon'\n",
    "lat_var_name = 'nav_lat'\n",
    "\n",
    "dist_sq, iy, ix, lat_near, lon_near = find_nearest_grid_point(target_lat, target_lon, d, lat_var_name, lon_var_name)"
   ]
  },
  {
   "cell_type": "markdown",
   "metadata": {},
   "source": [
    "The y index and x index are printed below:"
   ]
  },
  {
   "cell_type": "code",
   "execution_count": 6,
   "metadata": {},
   "outputs": [
    {
     "name": "stdout",
     "output_type": "stream",
     "text": [
      "[593] [2658]\n"
     ]
    }
   ],
   "source": [
    "print(iy, ix)"
   ]
  },
  {
   "cell_type": "markdown",
   "metadata": {},
   "source": [
    "We can also print the longitude and latitude of the nearest grid point"
   ]
  },
  {
   "cell_type": "code",
   "execution_count": 7,
   "metadata": {},
   "outputs": [
    {
     "name": "stdout",
     "output_type": "stream",
     "text": [
      "[43.975548] [-65.96261]\n"
     ]
    }
   ],
   "source": [
    "print(lat_near, lon_near)"
   ]
  },
  {
   "cell_type": "code",
   "execution_count": null,
   "metadata": {},
   "outputs": [],
   "source": []
  }
 ],
 "metadata": {
  "kernelspec": {
   "display_name": "Python 3",
   "language": "python",
   "name": "python3"
  },
  "language_info": {
   "codemirror_mode": {
    "name": "ipython",
    "version": 3
   },
   "file_extension": ".py",
   "mimetype": "text/x-python",
   "name": "python",
   "nbconvert_exporter": "python",
   "pygments_lexer": "ipython3",
   "version": "3.7.1"
  }
 },
 "nbformat": 4,
 "nbformat_minor": 5
}
