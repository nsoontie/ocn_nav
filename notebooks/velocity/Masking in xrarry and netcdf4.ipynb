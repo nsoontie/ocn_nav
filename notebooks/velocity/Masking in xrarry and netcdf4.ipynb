{
 "cells": [
  {
   "cell_type": "markdown",
   "metadata": {},
   "source": [
    "Are there any differences in how xarray and netCDF4 treat masked data?"
   ]
  },
  {
   "cell_type": "code",
   "execution_count": 1,
   "metadata": {
    "collapsed": true
   },
   "outputs": [],
   "source": [
    "import netCDF4 as nc\n",
    "import xarray as xr\n",
    "import numpy as np"
   ]
  },
  {
   "cell_type": "code",
   "execution_count": 2,
   "metadata": {
    "collapsed": true
   },
   "outputs": [],
   "source": [
    "filename='/data/hdd/glorys/v4/v4/MONTHLY_1993/rotated/GLORYS2V4_ORCA025_199301_cardinal_velocity.nc'"
   ]
  },
  {
   "cell_type": "markdown",
   "metadata": {},
   "source": [
    "# netCDF4"
   ]
  },
  {
   "cell_type": "code",
   "execution_count": 3,
   "metadata": {},
   "outputs": [
    {
     "data": {
      "text/plain": [
       "<class 'netCDF4._netCDF4.Variable'>\n",
       "float32 east_vel(time_counter, deptht, y, x)\n",
       "    _FillValue: 9.96921e+36\n",
       "    axis: \n",
       "    coordinates: \n",
       "    long_name: ocean current in eastward direction\n",
       "    missing_value: 9.96921e+36\n",
       "    online_operation: N/A\n",
       "    savelog10: 0.0\n",
       "    standard_name: ocean current eastward\n",
       "    units: m s-1\n",
       "    valid_max: 10.0\n",
       "    valid_min: -10.0\n",
       "    short_name: east_vel\n",
       "unlimited dimensions: time_counter\n",
       "current shape = (1, 75, 1021, 1442)\n",
       "filling on"
      ]
     },
     "execution_count": 3,
     "metadata": {},
     "output_type": "execute_result"
    }
   ],
   "source": [
    "f = nc.Dataset(filename)\n",
    "v = f.variables['east_vel']\n",
    "v"
   ]
  },
  {
   "cell_type": "code",
   "execution_count": 4,
   "metadata": {},
   "outputs": [
    {
     "name": "stdout",
     "output_type": "stream",
     "text": [
      "<class 'numpy.ma.core.MaskedArray'>\n",
      "1.50334\n",
      "-1.28856\n"
     ]
    }
   ],
   "source": [
    "print(type(v[:]))\n",
    "print(np.ma.max(v[:]))\n",
    "print(np.ma.min(v[:]))"
   ]
  },
  {
   "cell_type": "code",
   "execution_count": 5,
   "metadata": {},
   "outputs": [
    {
     "name": "stdout",
     "output_type": "stream",
     "text": [
      "<class 'numpy.ndarray'>\n",
      "9.96921e+36\n",
      "-5.23684e+36\n"
     ]
    }
   ],
   "source": [
    "print(type(v[:].data))\n",
    "print(np.ma.max(v[:].data))\n",
    "print(np.ma.min(v[:].data))"
   ]
  },
  {
   "cell_type": "code",
   "execution_count": 6,
   "metadata": {
    "collapsed": true
   },
   "outputs": [],
   "source": [
    "f.close()"
   ]
  },
  {
   "cell_type": "markdown",
   "metadata": {},
   "source": [
    "* netCDF4 loads data as masked arrays\n",
    "* data with values `_FillValue` or `missing_value` are masked\n",
    "* data outside of `valid_min`, `valid_max` are masked\n",
    "\n",
    "# xarray"
   ]
  },
  {
   "cell_type": "code",
   "execution_count": 7,
   "metadata": {},
   "outputs": [
    {
     "data": {
      "text/plain": [
       "<xarray.DataArray 'east_vel' (time_counter: 1, deptht: 75, y: 1021, x: 1442)>\n",
       "[110421150 values with dtype=float32]\n",
       "Coordinates:\n",
       "  * deptht        (deptht) float32 0.50576 1.55586 2.66768 3.85628 5.14036 ...\n",
       "  * time_counter  (time_counter) datetime64[ns] 1993-01-16T12:00:00\n",
       "  * x             (x) int32 1 2 3 4 5 6 7 8 9 10 11 12 13 14 15 16 17 18 19 ...\n",
       "  * y             (y) int32 1 2 3 4 5 6 7 8 9 10 11 12 13 14 15 16 17 18 19 ...\n",
       "Attributes:\n",
       "    axis:              \n",
       "    long_name:         ocean current in eastward direction\n",
       "    online_operation:  N/A\n",
       "    savelog10:         0.0\n",
       "    standard_name:     ocean current eastward\n",
       "    units:             m s-1\n",
       "    valid_max:         10.0\n",
       "    valid_min:         -10.0\n",
       "    short_name:        east_vel"
      ]
     },
     "execution_count": 7,
     "metadata": {},
     "output_type": "execute_result"
    }
   ],
   "source": [
    "ds = xr.open_dataset(filename)\n",
    "w = ds.east_vel\n",
    "w"
   ]
  },
  {
   "cell_type": "markdown",
   "metadata": {},
   "source": [
    "Check on information xarray used when decoding CF conventions. See http://xarray.pydata.org/en/stable/io.html#reading-encoded-data"
   ]
  },
  {
   "cell_type": "code",
   "execution_count": 8,
   "metadata": {},
   "outputs": [
    {
     "data": {
      "text/plain": [
       "{'_FillValue': 9.96921e+36,\n",
       " 'chunksizes': (1, 75, 1021, 1442),\n",
       " 'complevel': 4,\n",
       " 'contiguous': False,\n",
       " 'coordinates': '',\n",
       " 'dtype': dtype('float32'),\n",
       " 'fletcher32': False,\n",
       " 'missing_value': 9.96921e+36,\n",
       " 'original_shape': (1, 75, 1021, 1442),\n",
       " 'shuffle': True,\n",
       " 'source': '/data/hdd/glorys/v4/v4/MONTHLY_1993/rotated/GLORYS2V4_ORCA025_199301_cardinal_velocity.nc',\n",
       " 'zlib': True}"
      ]
     },
     "execution_count": 8,
     "metadata": {},
     "output_type": "execute_result"
    }
   ],
   "source": [
    "w.encoding"
   ]
  },
  {
   "cell_type": "code",
   "execution_count": 9,
   "metadata": {},
   "outputs": [
    {
     "name": "stdout",
     "output_type": "stream",
     "text": [
      "<class 'numpy.ndarray'>\n",
      "nan\n",
      "nan\n"
     ]
    }
   ],
   "source": [
    "print(type(w.values))\n",
    "print(np.ma.max(w.values))\n",
    "print(np.ma.min(w.values))"
   ]
  },
  {
   "cell_type": "markdown",
   "metadata": {},
   "source": [
    "* In xarray DataArray.values is not a masked numpy array.\n",
    "* As a result, `mp.ma.max()` and `np.ma.min()` do not work as expected.\n",
    "\n",
    "Idea: cast as numpy masked array"
   ]
  },
  {
   "cell_type": "code",
   "execution_count": 10,
   "metadata": {},
   "outputs": [
    {
     "name": "stdout",
     "output_type": "stream",
     "text": [
      "<class 'numpy.ma.core.MaskedArray'>\n",
      "7.0493e+36\n",
      "-5.23684e+36\n"
     ]
    }
   ],
   "source": [
    "wm = np.ma.masked_invalid(w.values)\n",
    "print(type(wm))\n",
    "print(np.ma.max(wm))\n",
    "print(np.ma.min(wm))"
   ]
  },
  {
   "cell_type": "code",
   "execution_count": 11,
   "metadata": {},
   "outputs": [
    {
     "name": "stdout",
     "output_type": "stream",
     "text": [
      "<class 'numpy.ma.core.MaskedArray'>\n",
      "1.50334\n",
      "-1.28856\n"
     ]
    }
   ],
   "source": [
    "wm2 = np.ma.masked_outside(wm, w.valid_min, w.valid_max)\n",
    "print(type(wm2))\n",
    "print(np.ma.max(wm2))\n",
    "print(np.ma.min(wm2))"
   ]
  },
  {
   "cell_type": "markdown",
   "metadata": {},
   "source": [
    "* data with values `_FillValue` and/or `missing_value` are masked \n",
    "* data with values outside of `valid_min` and `valid_max` are not masked \n",
    "\n",
    "**Solution**\n",
    "1. Regenerate glorys rotated velocities. Set values outside of `valid_min` and `valid_max` to `_FillValue`.\n",
    "2. We may need to cast data as numpy masked arrays before calling `np.ma.min()` etc in `stats.py` (Other ideas welcome...)\n"
   ]
  },
  {
   "cell_type": "code",
   "execution_count": null,
   "metadata": {
    "collapsed": true
   },
   "outputs": [],
   "source": []
  }
 ],
 "metadata": {
  "kernelspec": {
   "display_name": "Python [conda env:anaconda3]",
   "language": "python",
   "name": "conda-env-anaconda3-py"
  },
  "language_info": {
   "codemirror_mode": {
    "name": "ipython",
    "version": 3
   },
   "file_extension": ".py",
   "mimetype": "text/x-python",
   "name": "python",
   "nbconvert_exporter": "python",
   "pygments_lexer": "ipython3",
   "version": "3.6.3"
  }
 },
 "nbformat": 4,
 "nbformat_minor": 2
}
